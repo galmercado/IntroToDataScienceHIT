{
    "cells": [
        {
            "cell_type": "markdown",
            "metadata": {},
            "source": [
                "<img src=\".\/images\/Banner_NB.png\">"
            ]
        },
        {
            "cell_type": "markdown",
            "metadata": {},
            "source": [
                "# Lesson 2: Web Based API\n",
                "\n",
                "### Part A - Simple API Call (no parameters) - After Video 2.6"
            ]
        },
        {
            "cell_type": "markdown",
            "metadata": {},
            "source": [
                "We will start with a very simple API example, retrieving the current position of the ISS. We will be using the [requests library](http:\/\/www.python-requests.org\/en\/latest\/), which will handle our communication with the server."
            ]
        },
        {
            "cell_type": "code",
            "execution_count": null,
            "metadata": {
                "collapsed": true
            },
            "outputs": [],
            "source": [
                "import requests \n",
                "# Make a get request to get the latest position of the international space station from the opennotify api.\n",
                "response = requests.get(\"http:\/\/api.open-notify.org\/iss-now.json\")\n",
                "\n",
                "response "
            ]
        },
        {
            "cell_type": "markdown",
            "metadata": {},
            "source": [
                "That looks good, we've received a response and it has status 200 - which means all was ok. \n",
                "\n",
                "Let's see what happens when we try to get a response with a wrong URL:"
            ]
        },
        {
            "cell_type": "code",
            "execution_count": null,
            "metadata": {
                "collapsed": true
            },
            "outputs": [],
            "source": [
                "response_try2 = requests.get(\"http:\/\/api.open-notify.org\/iss\")\n",
                "\n",
                "response_try2"
            ]
        },
        {
            "cell_type": "markdown",
            "metadata": {},
            "source": [
                "As we saw in the lecture, response 400 is response of an error (due to the wrong url we sent)"
            ]
        },
        {
            "cell_type": "markdown",
            "metadata": {},
            "source": [
                "Let's look at the content of our previous, successful response:"
            ]
        },
        {
            "cell_type": "code",
            "execution_count": null,
            "metadata": {
                "collapsed": true,
                "slideshow": {
                    "slide_type": "subslide"
                }
            },
            "outputs": [],
            "source": [
                "response.content"
            ]
        },
        {
            "cell_type": "markdown",
            "metadata": {
                "slideshow": {
                    "slide_type": "skip"
                }
            },
            "source": [
                "We can already see that this is JSON (though it is stored a `bytes` object), but we can check formally:"
            ]
        },
        {
            "cell_type": "code",
            "execution_count": null,
            "metadata": {
                "collapsed": true,
                "slideshow": {
                    "slide_type": "subslide"
                }
            },
            "outputs": [],
            "source": [
                "response.headers['content-type']"
            ]
        },
        {
            "cell_type": "code",
            "execution_count": null,
            "metadata": {
                "collapsed": true,
                "slideshow": {
                    "slide_type": "skip"
                }
            },
            "outputs": [],
            "source": [
                "response.headers"
            ]
        },
        {
            "cell_type": "markdown",
            "metadata": {
                "slideshow": {
                    "slide_type": "skip"
                }
            },
            "source": [
                "We can decode this byte object, then the JSON will be readable. "
            ]
        },
        {
            "cell_type": "code",
            "execution_count": null,
            "metadata": {
                "collapsed": true,
                "slideshow": {
                    "slide_type": "subslide"
                }
            },
            "outputs": [],
            "source": [
                "response_j = response.content.decode(\"utf-8\")\n",
                "print(response_j)"
            ]
        },
        {
            "cell_type": "code",
            "execution_count": null,
            "metadata": {
                "collapsed": true,
                "slideshow": {
                    "slide_type": "subslide"
                }
            },
            "outputs": [],
            "source": [
                "import json\n",
                "response_d = json.loads(response_j)\n",
                "print(type(response_d))\n",
                "print(response_d)\n",
                "response_d[\"iss_position\"]"
            ]
        },
        {
            "cell_type": "markdown",
            "metadata": {
                "slideshow": {
                    "slide_type": "subslide"
                }
            },
            "source": [
                "Let's take a look at the JSON here:\n",
                "\n",
                "\n"
            ]
        },
        {
            "cell_type": "code",
            "execution_count": null,
            "metadata": {
                "collapsed": true
            },
            "outputs": [],
            "source": [
                "response_d"
            ]
        },
        {
            "cell_type": "markdown",
            "metadata": {},
            "source": [
                "This looks a lot like a dictionary! We have key-value pairs. \n",
                "\n",
                "We can use the [json library](https:\/\/docs.python.org\/3\/library\/json.html) to convert JSON into objects:"
            ]
        },
        {
            "cell_type": "markdown",
            "metadata": {
                "slideshow": {
                    "slide_type": "skip"
                }
            },
            "source": [
                "Or, not surprisingly, pandas can also load a json object:"
            ]
        },
        {
            "cell_type": "code",
            "execution_count": null,
            "metadata": {
                "collapsed": true,
                "slideshow": {
                    "slide_type": "subslide"
                }
            },
            "outputs": [],
            "source": [
                "import pandas as pd \n",
                "\n",
                "df = pd.read_json(response_j)\n",
                "df"
            ]
        },
        {
            "cell_type": "markdown",
            "metadata": {
                "slideshow": {
                    "slide_type": "skip"
                }
            },
            "source": [
                "Look at the Dataframe we got, this isn't quite what we want - we probably want one row per timestamp and longitude and latitude as columns. For that we will introduce a helper function called `flatten` "
            ]
        },
        {
            "cell_type": "code",
            "execution_count": null,
            "metadata": {
                "collapsed": true,
                "slideshow": {
                    "slide_type": "subslide"
                }
            },
            "outputs": [],
            "source": [
                "def flatten(response_d):\n",
                "    response_d[\"latitude\"] = response_d[\"iss_position\"][\"latitude\"]\n",
                "    response_d[\"longitude\"] = response_d[\"iss_position\"][\"longitude\"]\n",
                "    del(response_d[\"iss_position\"])\n",
                "    return response_d\n",
                "flatten(response_d)\n",
                "\n"
            ]
        },
        {
            "cell_type": "markdown",
            "metadata": {
                "slideshow": {
                    "slide_type": "skip"
                }
            },
            "source": [
                "That looks better. Let's get a couple of positions of the ISS over time and save it as an array:"
            ]
        },
        {
            "cell_type": "code",
            "execution_count": null,
            "metadata": {
                "collapsed": true,
                "slideshow": {
                    "slide_type": "subslide"
                }
            },
            "outputs": [],
            "source": [
                "import time\n",
                "\n",
                "def pull_position():\n",
                "    \"\"\"Retreives the position of the ISS and returns it as a flat dictionary\"\"\"\n",
                "    response = requests.get(\"http:\/\/api.open-notify.org\/iss-now.json\")\n",
                "    response_j = response.content.decode(\"utf-8\")\n",
                "    response_d = json.loads(response_j)\n",
                "    flat_response = flatten(response_d)\n",
                "    return flat_response    \n",
                "\n",
                "iss_position = []\n",
                "    \n",
                "# calls pull_position 10 times with 3 seconds break\n",
                "for i in range(10):\n",
                "    flat_response = pull_position()\n",
                "    iss_position.append(flat_response)\n",
                "    print(flat_response)\n",
                "    time.sleep(3)\n",
                "    \n",
                "len(iss_position)"
            ]
        },
        {
            "cell_type": "markdown",
            "metadata": {
                "slideshow": {
                    "slide_type": "skip"
                }
            },
            "source": [
                "Now we can convert this into a nice dataframe:"
            ]
        },
        {
            "cell_type": "code",
            "execution_count": null,
            "metadata": {
                "collapsed": true,
                "slideshow": {
                    "slide_type": "subslide"
                }
            },
            "outputs": [],
            "source": [
                "import pandas as pd\n",
                "\n",
                "iss_position_df = pd.DataFrame(iss_position)\n",
                "iss_position_df['timestamp']  = pd.to_datetime(iss_position_df['timestamp'], unit=\"s\")\n",
                "\n",
                "iss_position_df = iss_position_df.set_index(pd.DatetimeIndex(iss_position_df['timestamp']))\n",
                "iss_position_df[\"latitude\"] = iss_position_df[\"latitude\"].map(float)\n",
                "iss_position_df[\"longitude\"] = iss_position_df[\"longitude\"].map(float)\n",
                "iss_position_df"
            ]
        },
        {
            "cell_type": "markdown",
            "metadata": {
                "slideshow": {
                    "slide_type": "skip"
                }
            },
            "source": [
                "Let's see how the ISS moves"
            ]
        },
        {
            "cell_type": "code",
            "execution_count": null,
            "metadata": {
                "collapsed": true,
                "slideshow": {
                    "slide_type": "subslide"
                }
            },
            "outputs": [],
            "source": [
                "import matplotlib.pyplot as plt\n",
                "# This next line tells jupyter to render the images inline\n",
                "%matplotlib inline\n",
                "plt.style.use('ggplot')\n",
                "iss_position_df.plot(kind=\"scatter\", x=\"latitude\", y=\"longitude\")\n",
                "plt.show()\n"
            ]
        },
        {
            "cell_type": "markdown",
            "metadata": {},
            "source": [
                "Now it's time to go and see video 2.7, continue to part B - once you completed that video.."
            ]
        },
        {
            "cell_type": "markdown",
            "metadata": {},
            "source": [
                "### Part B - API Call with parameters - After Video 2.7"
            ]
        },
        {
            "cell_type": "markdown",
            "metadata": {},
            "source": [
                "Requests can be parametrized. You can search for tweets of a specific user, for example, or [retrieve the time the ISS is over Holon](http:\/\/open-notify.org\/Open-Notify-API\/ISS-Pass-Times\/)!\n",
                "\n",
                "The way to query with a get request for the ISS is this:\n",
                "\n",
                "`http:\/\/api.open-notify.org\/iss-pass.json?lat=32.0158&lon=34.7874`\n",
                "\n",
                "We, of course, could generate that URL ourselves, but the requests library is helpful here. Since JSON is similar to dictionaries, the requests library takes dictionaries for parameters."
            ]
        },
        {
            "cell_type": "code",
            "execution_count": null,
            "metadata": {
                "collapsed": true,
                "slideshow": {
                    "slide_type": "subslide"
                }
            },
            "outputs": [],
            "source": [
                "import requests\n",
                "url = \"http:\/\/api.open-notify.org\/iss-pass.json\"\n",
                "coordinates = {\"lat\": 32.0158, \"lon\": 34.7874, \"n\":5}\n",
                "\n",
                "r = requests.get(url, params=coordinates)\n",
                "data = r.json()\n",
                "print(data)\n",
                "print(type(r))\n",
                "print(type(data))"
            ]
        },
        {
            "cell_type": "code",
            "execution_count": null,
            "metadata": {
                "collapsed": true,
                "slideshow": {
                    "slide_type": "subslide"
                }
            },
            "outputs": [],
            "source": [
                "import pandas as pd\n",
                "\n",
                "#print(timestamp)\n",
                "for i in range(5):\n",
                "    timestamp = data[\"response\"][i][\"risetime\"]\n",
                "    print(pd.to_datetime(timestamp,  unit=\"s\"))"
            ]
        },
        {
            "cell_type": "markdown",
            "metadata": {
                "slideshow": {
                    "slide_type": "skip"
                }
            },
            "source": [
                "So, the ISS will be above Holon this am!"
            ]
        },
        {
            "cell_type": "markdown",
            "metadata": {},
            "source": [
                "## In class Exercise\n",
                "\n",
                "Write a code in the cell below that will check when will the ISS be over your house (based on coordinates of your place\/city)"
            ]
        },
        {
            "cell_type": "code",
            "execution_count": null,
            "metadata": {
                "collapsed": true
            },
            "outputs": [],
            "source": [
                "### Your code goes here.. "
            ]
        },
        {
            "cell_type": "code",
            "execution_count": null,
            "metadata": {
                "collapsed": true
            },
            "outputs": [],
            "source": []
        }
    ],
    "metadata": {
        "kernelspec": {
            "display_name": "Python 3.7",
            "language": "python",
            "name": "python3"
        },
        "language_info": {
            "codemirror_mode": {
                "name": "ipython",
                "version": 3
            },
            "file_extension": ".py",
            "mimetype": "text\/x-python",
            "name": "python",
            "nbconvert_exporter": "python",
            "pygments_lexer": "ipython3",
            "version": "3.7.5"
        }
    },
    "nbformat": 4,
    "nbformat_minor": 4
}